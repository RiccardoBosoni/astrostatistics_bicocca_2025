{
 "cells": [
  {
   "cell_type": "markdown",
   "id": "6ce519af-7701-493a-ade6-abf5f92fa322",
   "metadata": {},
   "source": [
    "Sometimes you might want to apply multiple ML techniques. For example, just because you have labels in your training data doesn't mean that a regression algorithm will work very well.  So, you might want to start with a clustering or dimensional reduction algorithm first.\n",
    "\n",
    "**The goal here it's to familiarize yourself with sklearn and the key ideas behind machine learning. So no worries it's ok if you don't understand the details of the algorithms right now, you'll get them in a few weeks.**\n",
    "\n",
    "\n",
    "For the exam, this assignment is **optional (not examinable)**."
   ]
  },
  {
   "cell_type": "markdown",
   "id": "9f13b74d-6f79-4379-9995-b0200d71282d",
   "metadata": {},
   "source": [
    "### Tasks. Part 0.\n",
    "\n",
    "1) First thing, grab a piece of paper and visually classify those 25 digits. We'll see if you're better or worse than a computer! \n",
    "\n",
    "**Spoiler alert: Davide's efficiency was ~80%, much worse than ML!**\n",
    "\n",
    "\n",
    "2) Here is how you plot the images and the corresponding labels  (The one thing I'm not telling you of course is the random seed I used to select those above). After you've seen this ones, go back to your piece of paper and update your choices if you want. Keep track of both set of preditions. This is like supervised learning.  \n"
   ]
  },
  {
   "cell_type": "markdown",
   "id": "917e5e4c-2aa5-4c6e-bc5e-4cbe3c17f516",
   "metadata": {},
   "source": [
    "### Tasks. Part 1. Unsupervised Learning: Dimensionality Reduction on Digits\n",
    "\n",
    "We'd like to visualize our points within the 64-dimensional parameter space, but it's difficult to plot points in $N=64$ dimensions! So we need to reduce the dimensionality of the space\n",
    "\n",
    "\n",
    "3) Use the unsupervised dimensionality reduction technique called **[`Isomap`](http://scikit-learn.org/stable/modules/generated/sklearn.manifold.Isomap.html#sklearn.manifold.Isomap)**. Isomap is an embedding tecnique, which tries to understand if your $N$ dimensional datapoint live in a $M$ dimensional (with $M<N$) manyfold. Reduce the MINST dataset.  Do some plots to visualize your results \n",
    "\n",
    "*Note*. Isomap is very recent. It was introduced by [Tenenbaum et al (2000)](https://www.science.org/doi/10.1126/science.290.5500.2319) ---a paper that has something like $1.5\\times 10^4$ [citations](https://scholar.google.com/scholar?hl=en&as_sdt=0%2C5&q=a+global+geometric+framework+for+nonlinear+dimensionality+reduction&btnG=).\n"
   ]
  },
  {
   "cell_type": "markdown",
   "id": "456a799c-e5a4-4dfa-b688-d510164aec46",
   "metadata": {},
   "source": [
    "### Tasks. Part 2. Supervised Learning: Classification on Digits\n",
    "\n",
    "Now we want to classify the dataset. \n",
    "\n",
    "4) Split the dataset taking 80% of the images as tranining dataset and leaving the other 20% as a validation set. You need `sklearn.model_selection.train_test_split`.\n",
    "\n",
    "5) Use a simple [`Logistic Regression`](http://scikit-learn.org/stable/modules/generated/sklearn.linear_model.LogisticRegression.html) which despite its name is a common classification algorithm. (I know, this is confusing!). Use the flag `solver='sag'` (I found the default solver had a bug, at least when I tried).\n",
    "\n",
    "6) Compute the accuracy (`sklearn.metrics.accuracy_score`) of your emulator. In this context, accuracy is simply the fraction of the digits that were correctly identified. Compute the accuracy on both the training and the validation set. Comment on the results.\n",
    "\n",
    "7) The accuracy is a single number doesn't tell us ***where*** we've gone wrong. Plot the ***confusion matrix*** as we did above. What are the digits that are more challenging to identify, does it make sense?\n",
    "\n",
    "\n",
    "There are many ways to improve this classifier, for example using a more sophisticated model, use cross validation, etc.  We'll get to those in the coming weeks."
   ]
  },
  {
   "cell_type": "code",
   "execution_count": null,
   "id": "dc8b1de7-6686-481d-8a63-71d186be73fd",
   "metadata": {},
   "outputs": [],
   "source": []
  }
 ],
 "metadata": {
  "kernelspec": {
   "display_name": "Python 3.11 (.venv311)",
   "language": "python",
   "name": "venv311"
  },
  "language_info": {
   "codemirror_mode": {
    "name": "ipython",
    "version": 3
   },
   "file_extension": ".py",
   "mimetype": "text/x-python",
   "name": "python",
   "nbconvert_exporter": "python",
   "pygments_lexer": "ipython3",
   "version": "3.11.13"
  }
 },
 "nbformat": 4,
 "nbformat_minor": 5
}
