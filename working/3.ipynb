{
 "cells": [
  {
   "cell_type": "code",
   "execution_count": null,
   "id": "23530680-6dc3-488e-8763-0c375ccfb49a",
   "metadata": {},
   "outputs": [],
   "source": []
  }
 ],
 "metadata": {
  "kernelspec": {
   "display_name": "",
   "name": ""
  },
  "language_info": {
   "name": ""
  }
 },
 "nbformat": 4,
 "nbformat_minor": 5
}
