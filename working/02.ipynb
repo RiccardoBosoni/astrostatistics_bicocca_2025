{
 "cells": [
  {
   "cell_type": "code",
   "execution_count": 1,
   "id": "eb2c77f7-1aaa-430c-8ce6-1c0f684970e5",
   "metadata": {},
   "outputs": [],
   "source": [
    "import numpy as np\n",
    "from matplotlib import pyplot as plt\n",
    "from scipy import stats\n",
    "import random\n",
    "from random import randrange\n",
    "from random import choice"
   ]
  },
  {
   "cell_type": "code",
   "execution_count": 2,
   "id": "f481cc14-6f2b-44a8-a31c-d37748082eb4",
   "metadata": {},
   "outputs": [],
   "source": [
    "x = [ 0, 0, 1] # 0 stands for goat while 1 stands for car\n",
    "A = 0  # player that keeps its choice\n",
    "B = 0  # player that changes choice\n",
    "C = 0  # third player -> never used because IT IS THE SAME SITUATION OF A (see further)\n",
    "door = 0\n",
    "host = 0"
   ]
  },
  {
   "cell_type": "code",
   "execution_count": 3,
   "id": "6f39a634-ba06-4357-990a-198011e5648f",
   "metadata": {},
   "outputs": [
    {
     "name": "stdout",
     "output_type": "stream",
     "text": [
      "[0, 1, 0]\n",
      "The car is in door number: 2\n",
      "The host opens door number: 3\n",
      "Player A has chosen door: 1\n",
      "Bad luck\n",
      "[0, 0, 1]\n",
      "The car is in door number: 3\n",
      "The host opens door number: 1\n",
      "Player A has chosen door: 2\n",
      "Bad luck\n",
      "[0, 1, 0]\n",
      "The car is in door number: 2\n",
      "The host opens door number: 1\n",
      "Player A has chosen door: 2\n",
      "Win\n",
      "[0, 0, 1]\n",
      "The car is in door number: 3\n",
      "The host opens door number: 2\n",
      "Player A has chosen door: 3\n",
      "Win\n",
      "[0, 0, 1]\n",
      "The car is in door number: 3\n",
      "The host opens door number: 2\n",
      "Player A has chosen door: 1\n",
      "Bad luck\n",
      "Over 5 cases, Player A has won times: 2\n"
     ]
    }
   ],
   "source": [
    "# Player A -> test for small N\n",
    "N = 5 # number of cases\n",
    "A_wins = 0\n",
    "\n",
    "for _ in range(N):\n",
    "\n",
    " random.shuffle(x) # random.shuffle mixes up the values inside the vector\n",
    " print(x)\n",
    " A =(randrange(3))\n",
    " index_car = x.index(1) # index finds the index where '1' resides\n",
    " print(\"The car is in door number:\", index_car+1)\n",
    " host = choice([i for i in range(3) if i not in [A, index_car]]) # choice makes sure that the host opens the door with a goat\n",
    " print(\"The host opens door number:\", host+1)\n",
    " print(\"Player A has chosen door:\", A+1) # randrange casually chooses a number between 0 and 2 (3 numbers which represent the doors)\n",
    " if A == index_car:\n",
    "    print(\"Win\")\n",
    "    A_wins+=1\n",
    " else:\n",
    "    print(\"Bad luck\")\n",
    "\n",
    "print (\"Over 5 cases, Player A has won times:\", A_wins)"
   ]
  },
  {
   "cell_type": "code",
   "execution_count": 4,
   "id": "7629d1bd-2c5e-4ba7-ac81-ed7003cc92eb",
   "metadata": {},
   "outputs": [
    {
     "name": "stdout",
     "output_type": "stream",
     "text": [
      "[0, 0, 1]\n",
      "The car is in door number: 3\n",
      "The host opens door number: 1\n",
      "Player B has chosen door: 2\n",
      "Bad luck\n",
      "[0, 1, 0]\n",
      "The car is in door number: 2\n",
      "The host opens door number: 1\n",
      "Player B has chosen door: 3\n",
      "Bad luck\n",
      "[0, 0, 1]\n",
      "The car is in door number: 3\n",
      "The host opens door number: 1\n",
      "Player B has chosen door: 3\n",
      "Win\n",
      "[0, 0, 1]\n",
      "The car is in door number: 3\n",
      "The host opens door number: 2\n",
      "Player B has chosen door: 3\n",
      "Win\n",
      "[0, 0, 1]\n",
      "The car is in door number: 3\n",
      "The host opens door number: 1\n",
      "Player B has chosen door: 2\n",
      "Bad luck\n",
      "Over 5 cases, Player B has won times: 2\n"
     ]
    }
   ],
   "source": [
    "# Player B -> test for small N\n",
    "N = 5 # number of cases\n",
    "B_wins = 0\n",
    "\n",
    "for _ in range(N):\n",
    "\n",
    " random.shuffle(x) # random.shuffle mixes up the values inside the vector\n",
    " print(x)\n",
    " B =(randrange(3))\n",
    " index_car = x.index(1) # index finds the index where '1' resides\n",
    " print(\"The car is in door number:\", index_car+1)\n",
    " host = choice([i for i in range(3) if i not in [B, index_car]]) # choice makes sure that the host opens the door with a goat\n",
    " B = choice([i for i in range(3) if i not in [B, host]])\n",
    " print(\"The host opens door number:\", host+1)\n",
    " print(\"Player B has chosen door:\", B+1) # randrange casually chooses a number between 0 and 2 (3 numbers which represent the doors)\n",
    " if B == index_car:\n",
    "    print(\"Win\")\n",
    "    B_wins+=1\n",
    " else:\n",
    "    print(\"Bad luck\")\n",
    "\n",
    "print (\"Over 5 cases, Player B has won times:\", B_wins)"
   ]
  },
  {
   "cell_type": "code",
   "execution_count": 5,
   "id": "f3e72233-0a1c-42a4-8f56-93e582df1203",
   "metadata": {},
   "outputs": [
    {
     "name": "stdout",
     "output_type": "stream",
     "text": [
      "Over 100 tries, Player A has won times: 28\n"
     ]
    }
   ],
   "source": [
    "# Player A -> test for big N\n",
    "N = 100 # number of cases\n",
    "A_wins = 0\n",
    "\n",
    "for _ in range(N):\n",
    "\n",
    " random.shuffle(x) # random.shuffle mixes up the values inside the vector\n",
    " A =(randrange(3))\n",
    " index_car = x.index(1) # index finds the index where '1' resides\n",
    " host = choice([i for i in range(3) if i not in [A, index_car]]) # choice makes sure that the host opens the door with a goat\n",
    " if A == index_car:\n",
    "    A_wins+=1\n",
    "\n",
    "print (\"Over 100 tries, Player A has won times:\", A_wins)"
   ]
  },
  {
   "cell_type": "code",
   "execution_count": 6,
   "id": "1ede3a72-bdbf-4ec9-b220-2ad5b3ef74a7",
   "metadata": {},
   "outputs": [
    {
     "name": "stdout",
     "output_type": "stream",
     "text": [
      "Over 100 times, Player B has won times: 64\n"
     ]
    }
   ],
   "source": [
    "# Player B -> test for big N\n",
    "N = 100 # number of cases\n",
    "B_wins = 0\n",
    "\n",
    "for _ in range(N):\n",
    "\n",
    " random.shuffle(x) # random.shuffle mixes up the values inside the vector\n",
    " B =(randrange(3))\n",
    " index_car = x.index(1) # index finds the index where '1' resides\n",
    " host = choice([i for i in range(3) if i not in [B, index_car]]) # choice makes sure that the host opens the door with a goat\n",
    " B = choice([i for i in range(3) if i not in [B, host]])\n",
    " if B == index_car:\n",
    "    B_wins+=1\n",
    "\n",
    "print (\"Over 100 times, Player B has won times:\", B_wins)"
   ]
  },
  {
   "cell_type": "code",
   "execution_count": 7,
   "id": "e7674c0f-8b56-4681-a968-37f69c20bf0f",
   "metadata": {},
   "outputs": [
    {
     "name": "stdout",
     "output_type": "stream",
     "text": [
      "Over 100 times, Player C has won times: 68\n"
     ]
    }
   ],
   "source": [
    "# Player C -> test for big N\n",
    "N = 100  # number of cases\n",
    "C_wins = 0\n",
    "\n",
    "for _ in range(N):\n",
    "    random.shuffle(x)  # random.shuffle mixes up the values inside the vector\n",
    "    C = (randrange(3))\n",
    "    index_car = x.index(1)  # index finds the index where '1' resides\n",
    "    host = choice([i for i in range(3) if i not in [C, index_car]])  # choice makes sure that the host opens the door with a goat\n",
    "    C = choice([i for i in range(3) if i not in [host, C]])  # Player C chooses randomly between the two remaining doors!\n",
    "    if C == index_car:\n",
    "        C_wins += 1\n",
    "\n",
    "print(\"Over 100 times, Player C has won times:\", C_wins)"
   ]
  },
  {
   "cell_type": "markdown",
   "id": "7e55fe68-2658-490f-b5f3-c2707a055c3a",
   "metadata": {},
   "source": [
    "\n",
    "\n",
    "#The \"small N\" cases were merely used to check if the code works. The core of the code resides in the \"big N\" parts.\n",
    "# What I have observed is that, thanks to the host \"hint\", switching the Player's initial choice gives a higher probability to win (see the values). For each trial, Player A and C have 1/3 probability to win while Player B has a probability of 2/3."
   ]
  },
  {
   "cell_type": "markdown",
   "id": "2d076c71-a1a2-424e-84cc-2e302dc10f48",
   "metadata": {},
   "source": [
    "1. Initial Probabilities:\n",
    "\n",
    "At the beginning, you have a 1/3 chance of picking the door with the car and a 2/3 chance of picking a door with a goat.\n",
    "2. Your Choice:\n",
    "\n",
    "You pick a door. Let's say you pick Door #1. Your odds of having picked the car remain 1/3. There's a 2/3 chance the car is behind one of the other two doors (Door #2 or Door #3).\n",
    "3. The Host's Action (The Crucial Part):\n",
    "\n",
    "The host knows where the car is. They will always open a door with a goat that you didn't pick. Let's say they open Door #3 and reveal a goat.\n",
    "4. The Shift in Probabilities:\n",
    "\n",
    "Here's the key: the host's action doesn't change the initial probabilities. Your door (Door #1) still has a 1/3 chance of having the car.\n",
    "However, the host has given you crucial information. They've essentially taken that 2/3 probability that the car was behind one of the other doors (Door #2 or Door #3) and concentrated it all onto the remaining unopened door (Door #2).\n",
    "Why?\n",
    "\n",
    "Because the host knew where the car was and deliberately avoided revealing it. If the car had been behind Door #3, the host would have opened Door #2 instead.\n",
    "5. Switching Doors:\n",
    "\n",
    "By switching to Door #2, you're essentially taking advantage of that concentrated 2/3 probability that was initially spread across the two doors you didn't pick. You're switching from your original 1/3 chance to a 2/3 chance of winning.\n",
    "Analogy to Make It More Intuitive:\n",
    "\n",
    "Imagine there are 100 doors. You pick one. The host then opens 98 other doors, revealing goats behind each of them. Would you stick with your original door (with a 1/100 chance of having the car), or would you switch to the one remaining closed door (which now has a 99/100 chance)?\n",
    "\n",
    "The Monty Hall problem is the same concept, just on a smaller scale with three doors. The host's action concentrates the probability onto the other unopened door, making switching the winning strategy."
   ]
  },
  {
   "cell_type": "code",
   "execution_count": null,
   "id": "8c1db61d-d0ba-49c9-a904-fea863e0176d",
   "metadata": {},
   "outputs": [],
   "source": []
  }
 ],
 "metadata": {
  "kernelspec": {
   "display_name": "Python 3.11 (.venv311)",
   "language": "python",
   "name": "venv311"
  },
  "language_info": {
   "codemirror_mode": {
    "name": "ipython",
    "version": 3
   },
   "file_extension": ".py",
   "mimetype": "text/x-python",
   "name": "python",
   "nbconvert_exporter": "python",
   "pygments_lexer": "ipython3",
   "version": "3.11.13"
  }
 },
 "nbformat": 4,
 "nbformat_minor": 5
}
